{
 "cells": [
  {
   "cell_type": "code",
   "execution_count": 74,
   "id": "4604531b-a2dc-464e-92f6-3fcd049729be",
   "metadata": {},
   "outputs": [],
   "source": [
    "import numpy as np\n",
    "from scipy.optimize import fsolve"
   ]
  },
  {
   "cell_type": "code",
   "execution_count": 179,
   "id": "b9bfbafd-5a5a-4ab7-b061-94fa8f29488d",
   "metadata": {},
   "outputs": [],
   "source": [
    "def bond_PV(rates):\n",
    "    PV = 0\n",
    "    tree_prices = list(reversed([[0]*(i+1) for i in range(len(rates))])) ## back to front\n",
    "    rates = list(reversed(rates))\n",
    "    for i in range(len(tree_prices[0])):\n",
    "        tree_prices[0][i] = 1/(1+rates[0][i])\n",
    "        \n",
    "    for i in range(1,len(tree_prices)):\n",
    "        for j in range(len(tree_prices[i])):\n",
    "            tree_prices[i][j] = 0.5*(tree_prices[i-1][j] + tree_prices[i-1][j+1])/(1+rates[i][j])\n",
    "    return tree_prices[-1][-1],tree_prices\n",
    "\n",
    "def append_new_rates(ts_curr,m,vol):\n",
    "    ts_new = [0]*(len(ts_curr[-1])+1) ### create next layer in the tree\n",
    "    for i in range(len(ts_new)):\n",
    "        ts_new[i] = ts_curr[-1][0] + m - 2*i*vol\n",
    "    return ts_curr + [ts_new]\n",
    "\n",
    "def append_BDT_rates(ts_curr,m,vol):\n",
    "    ts_new = [0]*(len(ts_curr[-1])+1) ### create next layer in the tree\n",
    "    for i in range(len(ts_new)):\n",
    "        ts_new[i] = ts_curr[-1][0]*np.exp(m - 2*i*vol)\n",
    "    return ts_curr + [ts_new]\n",
    "\n",
    "class Trees:\n",
    "    def __init__(self,bond_prices):\n",
    "        self.bond_prices = bond_prices\n",
    "    \n",
    "    def Ho_Lee(self,vol):\n",
    "        bond_prices = self.bond_prices\n",
    "        \n",
    "        def func(m,ts_curr,targ_price):\n",
    "            ts_optim = append_new_rates(ts_curr,m,vol)\n",
    "            expec_q,_ = bond_PV(ts_optim)\n",
    "            return targ_price - expec_q\n",
    "            \n",
    "        calib_rates = [[1/bond_prices[0] - 1]]\n",
    "        guess = 0.05\n",
    "        \n",
    "        for i in range(1,len(bond_prices)):\n",
    "            calib_m = fsolve(func,guess,args=(calib_rates,bond_prices[i]))\n",
    "            calib_rates = append_new_rates(calib_rates,calib_m,vol)\n",
    "        return calib_rates\n",
    "\n",
    "    def BDT(self,vols):\n",
    "        bond_prices = self.bond_prices\n",
    "        \n",
    "        def func(inputs,ts_curr,targ_price,targ_vol):\n",
    "            m,vol = inputs\n",
    "            ts_optim = append_BDT_rates(ts_curr,m,vol)\n",
    "            expec_q,prices = bond_PV(ts_optim)\n",
    "            yu = (1/prices[-2][0])**(1/(len(ts_optim)-1)) - 1\n",
    "            yd = (1/prices[-2][1])**(1/(len(ts_optim)-1)) - 1\n",
    "            expec_vol = 0.5*np.log(yu/yd)\n",
    "            return [targ_price - expec_q, targ_vol - expec_vol]\n",
    "            \n",
    "        calib_rates = [[1/bond_prices[0] - 1]]\n",
    "        price_guess = 0.05\n",
    "        vol_guess = 0.04\n",
    "        \n",
    "        for i in range(1,len(bond_prices)):\n",
    "            calib_m,calib_vol = fsolve(func,[price_guess, vol_guess],args=(calib_rates,bond_prices[i],vols[i-1]))\n",
    "            calib_rates = append_BDT_rates(calib_rates,calib_m,calib_vol)\n",
    "        return calib_rates"
   ]
  },
  {
   "cell_type": "code",
   "execution_count": 180,
   "id": "3823c858-4439-4fe2-b73c-3f430e02392e",
   "metadata": {},
   "outputs": [
    {
     "name": "stdout",
     "output_type": "stream",
     "text": [
      "[[0.050000000000000044], [array([0.07523603]), array([0.04523603])], [array([0.09164759]), array([0.06164759]), array([0.03164759])], [array([0.11129248]), array([0.08129248]), array([0.05129248]), array([0.02129248])], [array([0.12612463]), array([0.09612463]), array([0.06612463]), array([0.03612463]), array([0.00612463])], [array([0.14418405]), array([0.11418405]), array([0.08418405]), array([0.05418405]), array([0.02418405]), array([-0.00581595])]]\n"
     ]
    }
   ],
   "source": [
    "bond_yields = [0.05,0.055,0.057,0.059,0.06,0.061]\n",
    "bond_prices = [1/(1+x)**(i+1) for (i,x) in enumerate(bond_yields)]\n",
    "#bond_prices = [95,90,85]\n",
    "Trees_obj = Trees(bond_prices)\n",
    "print(Trees_obj.Ho_Lee(0.015))"
   ]
  },
  {
   "cell_type": "code",
   "execution_count": 181,
   "id": "12d37ffe-5d4a-433e-8877-800ae6c2da80",
   "metadata": {
    "scrolled": true
   },
   "outputs": [
    {
     "name": "stdout",
     "output_type": "stream",
     "text": [
      "[[0.050000000000000044], [0.0690472267897135, 0.051151443693362685], [0.0837001761653265, 0.05956076855574133, 0.04238324593180678], [0.11020840540185345, 0.07539734136769051, 0.05158190125868974, 0.035288943737230856], [0.14007713406547567, 0.09167574218858708, 0.0599986697464829, 0.039267098202949435, 0.025698986457453252], [0.19436303013938055, 0.12168861787732951, 0.07618794433424712, 0.0477004584580768, 0.029864747723452205, 0.0186979996716242]]\n"
     ]
    }
   ],
   "source": [
    "vols = [0.15,0.16,0.17,0.18,0.19,0.20]\n",
    "#vols = [0.15,0.13,0.1]\n",
    "print(Trees_obj.BDT(vols))"
   ]
  },
  {
   "cell_type": "code",
   "execution_count": 162,
   "id": "a39f8143-6465-4714-8389-c9e04d3d4ea8",
   "metadata": {},
   "outputs": [
    {
     "data": {
      "text/plain": [
       "0.9947968984091232"
      ]
     },
     "execution_count": 162,
     "metadata": {},
     "output_type": "execute_result"
    }
   ],
   "source": [
    "0.9323249956740813/0.9372013495066713"
   ]
  },
  {
   "cell_type": "code",
   "execution_count": 118,
   "id": "2961a216-7c04-4240-9e3b-0bbd3bfebb39",
   "metadata": {},
   "outputs": [
    {
     "data": {
      "text/plain": [
       "0.39191835884530846"
      ]
     },
     "execution_count": 118,
     "metadata": {},
     "output_type": "execute_result"
    }
   ],
   "source": [
    "np.sqrt(6)*0.16"
   ]
  }
 ],
 "metadata": {
  "kernelspec": {
   "display_name": "Python 3 (ipykernel)",
   "language": "python",
   "name": "python3"
  },
  "language_info": {
   "codemirror_mode": {
    "name": "ipython",
    "version": 3
   },
   "file_extension": ".py",
   "mimetype": "text/x-python",
   "name": "python",
   "nbconvert_exporter": "python",
   "pygments_lexer": "ipython3",
   "version": "3.11.8"
  }
 },
 "nbformat": 4,
 "nbformat_minor": 5
}
